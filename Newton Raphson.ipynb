{
  "nbformat": 4,
  "nbformat_minor": 0,
  "metadata": {
    "colab": {
      "name": "Copy of 213100072_A1.ipynb",
      "provenance": [],
      "collapsed_sections": [],
      "toc_visible": true
    },
    "kernelspec": {
      "name": "python3",
      "display_name": "Python 3"
    },
    "language_info": {
      "name": "python"
    }
  },
  "cells": [
    {
      "cell_type": "code",
      "source": [
        "import numpy as np\n",
        "import seaborn as sns\n",
        "import sympy as smp\n",
        "import matplotlib.pyplot as plt\n"
      ],
      "metadata": {
        "id": "RuEChHUr6kc3"
      },
      "execution_count": null,
      "outputs": []
    },
    {
      "cell_type": "markdown",
      "source": [
        "y = (tan θ)x – gx2/2(v0cosθ)2"
      ],
      "metadata": {
        "id": "SC4wGT8D7d49"
      }
    },
    {
      "cell_type": "markdown",
      "source": [
        "#Projectile Motion using N-R"
      ],
      "metadata": {
        "id": "ivmd2oasOY_8"
      }
    },
    {
      "cell_type": "code",
      "source": [
        "def NR_projectile(vel,range,tol,n_max):\n",
        "  Rmax=(vel*vel)/9.81\n",
        "  if Rmax < range:\n",
        "    print(\"Incorrect value of range. \")\n",
        "    return 0\n",
        "  else:\n",
        "    def NR(theta):  \n",
        "      import sympy as smp\n",
        "      x,v,th=smp.symbols('x v th',real='True')\n",
        "      y=((x*smp.tan(th))-((4.905)*((x**2)/((v**2)*(smp.cos(th)**2)))))\n",
        "      y_calc=smp.lambdify([x,v,th],y)\n",
        "      y_diff=smp.diff(y,th)\n",
        "      y_diff_calc=smp.lambdify([x,v,th],y_diff)\n",
        "      return y_calc(range,vel,theta)/y_diff_calc(range,vel,theta)\n",
        "    iter=1\n",
        "    theta=np.pi/12\n",
        "    \n",
        "    while iter<n_max:\n",
        "      theta1= theta -NR(theta)\n",
        "\n",
        "      if abs(theta1-theta)<tol:\n",
        "        break\n",
        "      else:\n",
        "        theta=theta1\n",
        "  print(theta1*180/np.pi,iter)\n",
        "  rng=lambda m,x: (x*np.tan(m))-4.905*(x/(vel*np.cos(m)))**2\n",
        "  x=np.linspace(0,range,1000)\n",
        "  y=rng(theta1,x)\n",
        "  plt.plot(x,y)"
      ],
      "metadata": {
        "id": "pIPO5Yqt6lyU"
      },
      "execution_count": null,
      "outputs": []
    },
    {
      "cell_type": "code",
      "source": [
        "NR_projectile(10,8,0.00001,20)"
      ],
      "metadata": {
        "colab": {
          "base_uri": "https://localhost:8080/",
          "height": 283
        },
        "id": "yqomaIAcbz3A",
        "outputId": "3f08f637-dc56-4770-8c48-435401957c8c"
      },
      "execution_count": null,
      "outputs": [
        {
          "output_type": "stream",
          "name": "stdout",
          "text": [
            "25.85109224525052 1\n"
          ]
        },
        {
          "output_type": "display_data",
          "data": {
            "image/png": "[encoded data removed]",
            "text/plain": [
              "<Figure size 432x288 with 1 Axes>"
            ]
          },
          "metadata": {
            "needs_background": "light"
          }
        }
      ]
    },
    {
      "cell_type": "markdown",
      "source": [
        "#Chain problem using N-R"
      ],
      "metadata": {
        "id": "jyUCqhCGgqpe"
      }
    },
    {
      "cell_type": "code",
      "source": [
        "def NR_chain(L1,x11,x22,y11,y22,tol,n_max):\n",
        "    \n",
        "  def Newton_R(m):  \n",
        "    x1,x2,y1,y2,L,a=smp.symbols('x1 x2 y1 y2 L a',real='True')\n",
        "    f=(2*a*smp.sinh((x2-x1)/(2*a))-smp.sqrt((L**2)-((y2-y1)**2)))\n",
        "    #print(f)\n",
        "    f_calc=smp.lambdify([x1,y1,x2,y2,L,a],f)\n",
        "    f_diff=smp.diff(f,a)\n",
        "    #print(f_diff)\n",
        "    #print(f_diff)\n",
        "    f_diff_calc=smp.lambdify([x1,y1,x2,y2,L,a],f_diff)\n",
        "    return f_calc(x11,y11,x22,y22,L1,m)/f_diff_calc(x11,y11,x22,y22,L1,m)\n",
        "  iter=1\n",
        "  m=1\n",
        "  while iter<n_max:\n",
        "    m1=m-Newton_R(m)\n",
        "    if abs(m-m1)<tol:\n",
        "      break\n",
        "    else:\n",
        "      m=m1\n",
        "  print(m1,iter)\n"
      ],
      "metadata": {
        "id": "vJxKCFvBX_yZ"
      },
      "execution_count": null,
      "outputs": []
    },
    {
      "cell_type": "code",
      "source": [
        "def NR_chain(L1,x11,x22,y11,y22,tol,n_max):  \n",
        "  def Newton_R(m):  \n",
        "    x1,x2,y1,y2,L,a=smp.symbols('x1 x2 y1 y2 L a',real='True')\n",
        "    f=(2*a*smp.sinh((x2-x1)/(2*a))-smp.sqrt((L**2)-((y2-y1)**2)))\n",
        "    #print(f)\n",
        "    f_calc=smp.lambdify([x1,y1,x2,y2,L,a],f)\n",
        "    f_diff=smp.diff(f,a)\n",
        "    #print(f_diff)\n",
        "    f_diff_calc=smp.lambdify([x1,y1,x2,y2,L,a],f_diff)\n",
        "    return f_calc(x11,y11,x22,y22,L1,m)/f_diff_calc(x11,y11,x22,y22,L1,m)\n",
        "  iter=1\n",
        "  m=1\n",
        "  while iter<n_max:\n",
        "    m1=m-Newton_R(m)\n",
        "    if abs(m-m1)<tol:\n",
        "      break\n",
        "    else:\n",
        "      iter=iter+1\n",
        "      m=m1\n",
        "  print(\"The root of the chain problem is\",m1,\"and the number of iterations is\" ,iter)\n",
        "  x0=(x11+x22)/2 + (m1/2)*np.log((L1-y22+y11)/(L1+y22-y11))\n",
        "  y0=y11-m1*(np.cosh((x11-x0)/m1)-1)\n",
        "  chain=lambda m1,x:(y0+m1*(np.cosh((x-x0)/m1)-1))\n",
        "  x=np.linspace(x11,x22,1000)\n",
        "  y=chain(m1,x)\n",
        "  plt.plot(x,y)\n",
        "  plt.title(\"Hanging Chain\")"
      ],
      "metadata": {
        "id": "4PEangMFWb2c"
      },
      "execution_count": null,
      "outputs": []
    },
    {
      "cell_type": "code",
      "source": [
        "NR_chain(10,1,6,6,6,0.00000001,30)"
      ],
      "metadata": {
        "colab": {
          "base_uri": "https://localhost:8080/",
          "height": 298
        },
        "id": "9bc_wVaPZApO",
        "outputId": "3da486b1-ca3b-40a2-d1e1-333a27174c9e"
      },
      "execution_count": null,
      "outputs": [
        {
          "output_type": "stream",
          "name": "stdout",
          "text": [
            "The root of the chain problem is 1.148201075388058 and the number of iterations is 5\n"
          ]
        },
        {
          "output_type": "display_data",
          "data": {
            "image/png": "[encoded data removed]",
            "text/plain": [
              "<Figure size 432x288 with 1 Axes>"
            ]
          },
          "metadata": {
            "needs_background": "light"
          }
        }
      ]
    }
  ]
}