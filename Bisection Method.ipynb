{
  "nbformat": 4,
  "nbformat_minor": 0,
  "metadata": {
    "colab": {
      "name": "Copy of 213100072_A1.ipynb",
      "provenance": [],
      "collapsed_sections": [],
      "toc_visible": true
    },
    "kernelspec": {
      "name": "python3",
      "display_name": "Python 3"
    },
    "language_info": {
      "name": "python"
    }
  },
  "cells": [
    {
      "cell_type": "code",
      "source": [
        "import numpy as np\n",
        "import seaborn as sns\n",
        "import sympy as smp\n",
        "import matplotlib.pyplot as plt\n"
      ],
      "metadata": {
        "id": "RuEChHUr6kc3"
      },
      "execution_count": null,
      "outputs": []
    },
    {
      "cell_type": "markdown",
      "source": [
        "y = (tan θ)x – gx2/2(v0cosθ)2"
      ],
      "metadata": {
        "id": "SC4wGT8D7d49"
      }
    },
    {
      "cell_type": "markdown",
      "source": [
        "#Projectile Motion using Bisection Method"
      ],
      "metadata": {
        "id": "W0O3qRIgnSqN"
      }
    },
    {
      "cell_type": "code",
      "execution_count": null,
      "metadata": {
        "id": "uypzEJrI50yz"
      },
      "outputs": [],
      "source": [
        "def bisection_projectile(vel,range,tol,n_max):\n",
        "  Rmax=(vel*vel)/9.81\n",
        "  if Rmax < range:\n",
        "    print(\"Incorrect value of range. \")\n",
        "    return 0\n",
        "  else:\n",
        "    iter=1\n",
        "    a=np.pi/4\n",
        "    b=0\n",
        "    rng=lambda m,x: (x*np.tan(m))-4.905*(x/(vel*np.cos(m)))**2\n",
        "    while iter <n_max:\n",
        "      mid= b+ (a-b)/2\n",
        "      fun=rng(mid,range)\n",
        "      if (fun==0) or ((a-b)/2 < tol):\n",
        "        break\n",
        "      else:\n",
        "        iter=iter+1\n",
        "        if rng(mid,range)*rng(b,range)>0:\n",
        "          b=mid\n",
        "        else:\n",
        "          a=mid\n",
        "    print(mid*180/np.pi, iter)\n",
        "    x=np.linspace(0,range,1000)\n",
        "    y=rng(mid,x)\n",
        "    plt.plot(x,y)"
      ]
    },
    {
      "cell_type": "code",
      "source": [
        "bisection_projectile(15,8,0.00001,20)"
      ],
      "metadata": {
        "colab": {
          "base_uri": "https://localhost:8080/",
          "height": 282
        },
        "id": "DQ7Gx6P7OTuP",
        "outputId": "32ef331d-f2ff-4757-a375-c0ad26272eb2"
      },
      "execution_count": null,
      "outputs": [
        {
          "output_type": "stream",
          "name": "stdout",
          "text": [
            "10.206642150878906 17\n"
          ]
        },
        {
          "output_type": "display_data",
          "data": {
            "image/png": "[encoded data removed]",
            "text/plain": [
              "<Figure size 432x288 with 1 Axes>"
            ]
          },
          "metadata": {
            "needs_background": "light"
          }
        }
      ]
    },
    {
      "cell_type": "markdown",
      "source": [
        "#Chain problem using bisection method"
      ],
      "metadata": {
        "id": "tk2O0KdlnYli"
      }
    },
    {
      "cell_type": "code",
      "source": [
        "def bisection_chain(L1,x11,x22,y11,y22,tol,n_max):\n",
        "  f=lambda m: 2*m*np.sinh((x22-x11)/(2*m))-np.sqrt((L1**2-(y22-y11)**2))\n",
        "  iter=1\n",
        "  a,b=10,0.1\n",
        "  while iter<n_max:\n",
        "    mid=b + (a-b)/2\n",
        "    val=f(mid)\n",
        "    if val==0 or ((a-b)/2 <tol):\n",
        "      break\n",
        "    else:\n",
        "      iter=iter+1\n",
        "      if val<0:\n",
        "        a=mid\n",
        "      else:\n",
        "        b=mid\n",
        "  print(mid,iter)\n",
        "  x0=(x11+x22)/2 + (mid/2)*np.log((L1-y22+y11)/(L1+y22-y11))\n",
        "  y0=y11-mid*(np.cosh((x11-x0)/mid)-1)\n",
        "  chain=lambda mid,x:(y0+mid*(np.cosh((x-x0)/mid)-1))\n",
        "  x=np.linspace(x11,x22,1000)\n",
        "  y=chain(mid,x)\n",
        "  plt.plot(x,y)\n",
        "\n"
      ],
      "metadata": {
        "id": "1WA0Qey2NSFj"
      },
      "execution_count": null,
      "outputs": []
    },
    {
      "cell_type": "code",
      "source": [
        "bisection_chain(10,1,6,6,6,0.00000001,30)"
      ],
      "metadata": {
        "colab": {
          "base_uri": "https://localhost:8080/",
          "height": 282
        },
        "id": "2ccHmgeshXNL",
        "outputId": "96f3fc30-c57d-487a-88a5-193b8f70fc75"
      },
      "execution_count": null,
      "outputs": [
        {
          "output_type": "stream",
          "name": "stdout",
          "text": [
            "1.1482010619714864 30\n"
          ]
        },
        {
          "output_type": "display_data",
          "data": {
            "image/png": "[encoded data removed]",
            "text/plain": [
              "<Figure size 432x288 with 1 Axes>"
            ]
          },
          "metadata": {
            "needs_background": "light"
          }
        }
      ]
    }
  ]
}